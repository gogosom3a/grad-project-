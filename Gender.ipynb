{
 "cells": [
  {
   "cell_type": "code",
   "execution_count": 39,
   "id": "12226da8",
   "metadata": {},
   "outputs": [],
   "source": [
    "import pandas as pd\n",
    "import numpy as np"
   ]
  },
  {
   "cell_type": "code",
   "execution_count": 40,
   "id": "6fd665cf",
   "metadata": {},
   "outputs": [],
   "source": [
    "df=pd.read_csv(\"gender.csv\")\n",
    "\n",
    "test=pd.read_csv(\"test.csv\")"
   ]
  },
  {
   "cell_type": "code",
   "execution_count": 41,
   "id": "3798d4bf",
   "metadata": {},
   "outputs": [
    {
     "data": {
      "text/html": [
       "<div>\n",
       "<style scoped>\n",
       "    .dataframe tbody tr th:only-of-type {\n",
       "        vertical-align: middle;\n",
       "    }\n",
       "\n",
       "    .dataframe tbody tr th {\n",
       "        vertical-align: top;\n",
       "    }\n",
       "\n",
       "    .dataframe thead th {\n",
       "        text-align: right;\n",
       "    }\n",
       "</style>\n",
       "<table border=\"1\" class=\"dataframe\">\n",
       "  <thead>\n",
       "    <tr style=\"text-align: right;\">\n",
       "      <th></th>\n",
       "      <th>Otu3</th>\n",
       "      <th>Otu6</th>\n",
       "      <th>Otu8</th>\n",
       "      <th>Otu22</th>\n",
       "      <th>Otu23</th>\n",
       "      <th>Otu40</th>\n",
       "      <th>Otu55</th>\n",
       "      <th>Otu61</th>\n",
       "      <th>Otu63</th>\n",
       "      <th>Otu70</th>\n",
       "      <th>...</th>\n",
       "      <th>Otu105</th>\n",
       "      <th>Otu108</th>\n",
       "      <th>Otu112</th>\n",
       "      <th>Otu122</th>\n",
       "      <th>Otu124</th>\n",
       "      <th>Otu145</th>\n",
       "      <th>Otu212</th>\n",
       "      <th>Otu217</th>\n",
       "      <th>Otu290</th>\n",
       "      <th>class</th>\n",
       "    </tr>\n",
       "  </thead>\n",
       "  <tbody>\n",
       "    <tr>\n",
       "      <th>0</th>\n",
       "      <td>0.005587</td>\n",
       "      <td>0.966480</td>\n",
       "      <td>0.002793</td>\n",
       "      <td>0.000000</td>\n",
       "      <td>0.000000</td>\n",
       "      <td>0.002793</td>\n",
       "      <td>0.000000</td>\n",
       "      <td>0.000000</td>\n",
       "      <td>0.000000</td>\n",
       "      <td>0.000000</td>\n",
       "      <td>...</td>\n",
       "      <td>0.000000</td>\n",
       "      <td>0.000000</td>\n",
       "      <td>0.000000</td>\n",
       "      <td>0.000000</td>\n",
       "      <td>0.000000</td>\n",
       "      <td>0.000000</td>\n",
       "      <td>0.022346</td>\n",
       "      <td>0.000000</td>\n",
       "      <td>0.000000</td>\n",
       "      <td>M</td>\n",
       "    </tr>\n",
       "    <tr>\n",
       "      <th>1</th>\n",
       "      <td>0.000000</td>\n",
       "      <td>0.759850</td>\n",
       "      <td>0.136961</td>\n",
       "      <td>0.037523</td>\n",
       "      <td>0.001876</td>\n",
       "      <td>0.000000</td>\n",
       "      <td>0.005629</td>\n",
       "      <td>0.000000</td>\n",
       "      <td>0.000000</td>\n",
       "      <td>0.000000</td>\n",
       "      <td>...</td>\n",
       "      <td>0.001876</td>\n",
       "      <td>0.000000</td>\n",
       "      <td>0.000938</td>\n",
       "      <td>0.003752</td>\n",
       "      <td>0.000000</td>\n",
       "      <td>0.015009</td>\n",
       "      <td>0.015947</td>\n",
       "      <td>0.001876</td>\n",
       "      <td>0.000000</td>\n",
       "      <td>F</td>\n",
       "    </tr>\n",
       "    <tr>\n",
       "      <th>2</th>\n",
       "      <td>0.007411</td>\n",
       "      <td>0.033351</td>\n",
       "      <td>0.002118</td>\n",
       "      <td>0.000000</td>\n",
       "      <td>0.890418</td>\n",
       "      <td>0.000000</td>\n",
       "      <td>0.000000</td>\n",
       "      <td>0.000000</td>\n",
       "      <td>0.000000</td>\n",
       "      <td>0.000000</td>\n",
       "      <td>...</td>\n",
       "      <td>0.000000</td>\n",
       "      <td>0.000000</td>\n",
       "      <td>0.000000</td>\n",
       "      <td>0.000000</td>\n",
       "      <td>0.000000</td>\n",
       "      <td>0.000000</td>\n",
       "      <td>0.066702</td>\n",
       "      <td>0.000000</td>\n",
       "      <td>0.000000</td>\n",
       "      <td>F</td>\n",
       "    </tr>\n",
       "    <tr>\n",
       "      <th>3</th>\n",
       "      <td>0.000000</td>\n",
       "      <td>0.016625</td>\n",
       "      <td>0.035376</td>\n",
       "      <td>0.000387</td>\n",
       "      <td>0.001160</td>\n",
       "      <td>0.209356</td>\n",
       "      <td>0.080997</td>\n",
       "      <td>0.020878</td>\n",
       "      <td>0.202590</td>\n",
       "      <td>0.067659</td>\n",
       "      <td>...</td>\n",
       "      <td>0.045042</td>\n",
       "      <td>0.011405</td>\n",
       "      <td>0.007153</td>\n",
       "      <td>0.040209</td>\n",
       "      <td>0.209743</td>\n",
       "      <td>0.014692</td>\n",
       "      <td>0.001160</td>\n",
       "      <td>0.001160</td>\n",
       "      <td>0.000000</td>\n",
       "      <td>F</td>\n",
       "    </tr>\n",
       "    <tr>\n",
       "      <th>4</th>\n",
       "      <td>0.000442</td>\n",
       "      <td>0.004419</td>\n",
       "      <td>0.136544</td>\n",
       "      <td>0.029607</td>\n",
       "      <td>0.065400</td>\n",
       "      <td>0.077331</td>\n",
       "      <td>0.160848</td>\n",
       "      <td>0.000000</td>\n",
       "      <td>0.022095</td>\n",
       "      <td>0.000000</td>\n",
       "      <td>...</td>\n",
       "      <td>0.011489</td>\n",
       "      <td>0.000442</td>\n",
       "      <td>0.053469</td>\n",
       "      <td>0.120194</td>\n",
       "      <td>0.000000</td>\n",
       "      <td>0.176315</td>\n",
       "      <td>0.019885</td>\n",
       "      <td>0.000000</td>\n",
       "      <td>0.116217</td>\n",
       "      <td>M</td>\n",
       "    </tr>\n",
       "  </tbody>\n",
       "</table>\n",
       "<p>5 rows × 21 columns</p>\n",
       "</div>"
      ],
      "text/plain": [
       "       Otu3      Otu6      Otu8     Otu22     Otu23     Otu40     Otu55  \\\n",
       "0  0.005587  0.966480  0.002793  0.000000  0.000000  0.002793  0.000000   \n",
       "1  0.000000  0.759850  0.136961  0.037523  0.001876  0.000000  0.005629   \n",
       "2  0.007411  0.033351  0.002118  0.000000  0.890418  0.000000  0.000000   \n",
       "3  0.000000  0.016625  0.035376  0.000387  0.001160  0.209356  0.080997   \n",
       "4  0.000442  0.004419  0.136544  0.029607  0.065400  0.077331  0.160848   \n",
       "\n",
       "      Otu61     Otu63     Otu70  ...    Otu105    Otu108    Otu112    Otu122  \\\n",
       "0  0.000000  0.000000  0.000000  ...  0.000000  0.000000  0.000000  0.000000   \n",
       "1  0.000000  0.000000  0.000000  ...  0.001876  0.000000  0.000938  0.003752   \n",
       "2  0.000000  0.000000  0.000000  ...  0.000000  0.000000  0.000000  0.000000   \n",
       "3  0.020878  0.202590  0.067659  ...  0.045042  0.011405  0.007153  0.040209   \n",
       "4  0.000000  0.022095  0.000000  ...  0.011489  0.000442  0.053469  0.120194   \n",
       "\n",
       "     Otu124    Otu145    Otu212    Otu217    Otu290  class  \n",
       "0  0.000000  0.000000  0.022346  0.000000  0.000000      M  \n",
       "1  0.000000  0.015009  0.015947  0.001876  0.000000      F  \n",
       "2  0.000000  0.000000  0.066702  0.000000  0.000000      F  \n",
       "3  0.209743  0.014692  0.001160  0.001160  0.000000      F  \n",
       "4  0.000000  0.176315  0.019885  0.000000  0.116217      M  \n",
       "\n",
       "[5 rows x 21 columns]"
      ]
     },
     "execution_count": 41,
     "metadata": {},
     "output_type": "execute_result"
    }
   ],
   "source": [
    "df.head()"
   ]
  },
  {
   "cell_type": "code",
   "execution_count": 42,
   "id": "7726a47a",
   "metadata": {},
   "outputs": [],
   "source": [
    "#Label encoding of categorical variables\n",
    "from sklearn import preprocessing\n",
    "le=label_encoder = preprocessing.LabelEncoder()\n",
    "df[\"class\"]=le.fit_transform(df[\"class\"])"
   ]
  },
  {
   "cell_type": "code",
   "execution_count": 43,
   "id": "b895364d",
   "metadata": {},
   "outputs": [
    {
     "data": {
      "text/plain": [
       "0      1\n",
       "1      0\n",
       "2      0\n",
       "3      0\n",
       "4      1\n",
       "      ..\n",
       "940    1\n",
       "941    1\n",
       "942    1\n",
       "943    0\n",
       "944    0\n",
       "Name: class, Length: 945, dtype: int32"
      ]
     },
     "execution_count": 43,
     "metadata": {},
     "output_type": "execute_result"
    }
   ],
   "source": [
    "df[\"class\"]"
   ]
  },
  {
   "cell_type": "code",
   "execution_count": 44,
   "id": "4cb497fa",
   "metadata": {},
   "outputs": [],
   "source": [
    "#checking for null values\n",
    "df.isnull().sum()\n",
    "df=df.dropna()"
   ]
  },
  {
   "cell_type": "code",
   "execution_count": 45,
   "id": "25e90f1e",
   "metadata": {},
   "outputs": [],
   "source": [
    "from sklearn import metrics\n",
    "import matplotlib.pyplot as plt\n",
    "from sklearn.ensemble import GradientBoostingClassifier\n",
    "from sklearn.ensemble import RandomForestClassifier\n",
    "\n",
    "from sklearn.neighbors import KNeighborsClassifier\n",
    "from sklearn.preprocessing import StandardScaler\n",
    "from sklearn.svm import SVC\n",
    "from sklearn.datasets import make_classification\n",
    "from sklearn.model_selection import train_test_split\n",
    "from sklearn.metrics import classification_report, confusion_matrix, accuracy_score,roc_auc_score\n",
    "from sklearn.linear_model import LogisticRegression\n"
   ]
  },
  {
   "cell_type": "code",
   "execution_count": 46,
   "id": "e8d851e1",
   "metadata": {},
   "outputs": [
    {
     "data": {
      "text/html": [
       "<div>\n",
       "<style scoped>\n",
       "    .dataframe tbody tr th:only-of-type {\n",
       "        vertical-align: middle;\n",
       "    }\n",
       "\n",
       "    .dataframe tbody tr th {\n",
       "        vertical-align: top;\n",
       "    }\n",
       "\n",
       "    .dataframe thead th {\n",
       "        text-align: right;\n",
       "    }\n",
       "</style>\n",
       "<table border=\"1\" class=\"dataframe\">\n",
       "  <thead>\n",
       "    <tr style=\"text-align: right;\">\n",
       "      <th></th>\n",
       "      <th>Otu3</th>\n",
       "      <th>Otu6</th>\n",
       "      <th>Otu8</th>\n",
       "      <th>Otu22</th>\n",
       "      <th>Otu23</th>\n",
       "      <th>Otu40</th>\n",
       "      <th>Otu55</th>\n",
       "      <th>Otu61</th>\n",
       "      <th>Otu63</th>\n",
       "      <th>Otu70</th>\n",
       "      <th>Otu92</th>\n",
       "      <th>Otu105</th>\n",
       "      <th>Otu108</th>\n",
       "      <th>Otu112</th>\n",
       "      <th>Otu122</th>\n",
       "      <th>Otu124</th>\n",
       "      <th>Otu145</th>\n",
       "      <th>Otu212</th>\n",
       "      <th>Otu217</th>\n",
       "      <th>Otu290</th>\n",
       "    </tr>\n",
       "  </thead>\n",
       "  <tbody>\n",
       "    <tr>\n",
       "      <th>0</th>\n",
       "      <td>0.005587</td>\n",
       "      <td>0.966480</td>\n",
       "      <td>0.002793</td>\n",
       "      <td>0.000000</td>\n",
       "      <td>0.000000</td>\n",
       "      <td>0.002793</td>\n",
       "      <td>0.000000</td>\n",
       "      <td>0.000000</td>\n",
       "      <td>0.000000</td>\n",
       "      <td>0.000000</td>\n",
       "      <td>0.000000</td>\n",
       "      <td>0.000000</td>\n",
       "      <td>0.000000</td>\n",
       "      <td>0.000000</td>\n",
       "      <td>0.000000</td>\n",
       "      <td>0.000000</td>\n",
       "      <td>0.000000</td>\n",
       "      <td>0.022346</td>\n",
       "      <td>0.000000</td>\n",
       "      <td>0.000000</td>\n",
       "    </tr>\n",
       "    <tr>\n",
       "      <th>1</th>\n",
       "      <td>0.000000</td>\n",
       "      <td>0.759850</td>\n",
       "      <td>0.136961</td>\n",
       "      <td>0.037523</td>\n",
       "      <td>0.001876</td>\n",
       "      <td>0.000000</td>\n",
       "      <td>0.005629</td>\n",
       "      <td>0.000000</td>\n",
       "      <td>0.000000</td>\n",
       "      <td>0.000000</td>\n",
       "      <td>0.018762</td>\n",
       "      <td>0.001876</td>\n",
       "      <td>0.000000</td>\n",
       "      <td>0.000938</td>\n",
       "      <td>0.003752</td>\n",
       "      <td>0.000000</td>\n",
       "      <td>0.015009</td>\n",
       "      <td>0.015947</td>\n",
       "      <td>0.001876</td>\n",
       "      <td>0.000000</td>\n",
       "    </tr>\n",
       "    <tr>\n",
       "      <th>2</th>\n",
       "      <td>0.007411</td>\n",
       "      <td>0.033351</td>\n",
       "      <td>0.002118</td>\n",
       "      <td>0.000000</td>\n",
       "      <td>0.890418</td>\n",
       "      <td>0.000000</td>\n",
       "      <td>0.000000</td>\n",
       "      <td>0.000000</td>\n",
       "      <td>0.000000</td>\n",
       "      <td>0.000000</td>\n",
       "      <td>0.000000</td>\n",
       "      <td>0.000000</td>\n",
       "      <td>0.000000</td>\n",
       "      <td>0.000000</td>\n",
       "      <td>0.000000</td>\n",
       "      <td>0.000000</td>\n",
       "      <td>0.000000</td>\n",
       "      <td>0.066702</td>\n",
       "      <td>0.000000</td>\n",
       "      <td>0.000000</td>\n",
       "    </tr>\n",
       "    <tr>\n",
       "      <th>3</th>\n",
       "      <td>0.000000</td>\n",
       "      <td>0.016625</td>\n",
       "      <td>0.035376</td>\n",
       "      <td>0.000387</td>\n",
       "      <td>0.001160</td>\n",
       "      <td>0.209356</td>\n",
       "      <td>0.080997</td>\n",
       "      <td>0.020878</td>\n",
       "      <td>0.202590</td>\n",
       "      <td>0.067659</td>\n",
       "      <td>0.034409</td>\n",
       "      <td>0.045042</td>\n",
       "      <td>0.011405</td>\n",
       "      <td>0.007153</td>\n",
       "      <td>0.040209</td>\n",
       "      <td>0.209743</td>\n",
       "      <td>0.014692</td>\n",
       "      <td>0.001160</td>\n",
       "      <td>0.001160</td>\n",
       "      <td>0.000000</td>\n",
       "    </tr>\n",
       "    <tr>\n",
       "      <th>4</th>\n",
       "      <td>0.000442</td>\n",
       "      <td>0.004419</td>\n",
       "      <td>0.136544</td>\n",
       "      <td>0.029607</td>\n",
       "      <td>0.065400</td>\n",
       "      <td>0.077331</td>\n",
       "      <td>0.160848</td>\n",
       "      <td>0.000000</td>\n",
       "      <td>0.022095</td>\n",
       "      <td>0.000000</td>\n",
       "      <td>0.005303</td>\n",
       "      <td>0.011489</td>\n",
       "      <td>0.000442</td>\n",
       "      <td>0.053469</td>\n",
       "      <td>0.120194</td>\n",
       "      <td>0.000000</td>\n",
       "      <td>0.176315</td>\n",
       "      <td>0.019885</td>\n",
       "      <td>0.000000</td>\n",
       "      <td>0.116217</td>\n",
       "    </tr>\n",
       "  </tbody>\n",
       "</table>\n",
       "</div>"
      ],
      "text/plain": [
       "       Otu3      Otu6      Otu8     Otu22     Otu23     Otu40     Otu55  \\\n",
       "0  0.005587  0.966480  0.002793  0.000000  0.000000  0.002793  0.000000   \n",
       "1  0.000000  0.759850  0.136961  0.037523  0.001876  0.000000  0.005629   \n",
       "2  0.007411  0.033351  0.002118  0.000000  0.890418  0.000000  0.000000   \n",
       "3  0.000000  0.016625  0.035376  0.000387  0.001160  0.209356  0.080997   \n",
       "4  0.000442  0.004419  0.136544  0.029607  0.065400  0.077331  0.160848   \n",
       "\n",
       "      Otu61     Otu63     Otu70     Otu92    Otu105    Otu108    Otu112  \\\n",
       "0  0.000000  0.000000  0.000000  0.000000  0.000000  0.000000  0.000000   \n",
       "1  0.000000  0.000000  0.000000  0.018762  0.001876  0.000000  0.000938   \n",
       "2  0.000000  0.000000  0.000000  0.000000  0.000000  0.000000  0.000000   \n",
       "3  0.020878  0.202590  0.067659  0.034409  0.045042  0.011405  0.007153   \n",
       "4  0.000000  0.022095  0.000000  0.005303  0.011489  0.000442  0.053469   \n",
       "\n",
       "     Otu122    Otu124    Otu145    Otu212    Otu217    Otu290  \n",
       "0  0.000000  0.000000  0.000000  0.022346  0.000000  0.000000  \n",
       "1  0.003752  0.000000  0.015009  0.015947  0.001876  0.000000  \n",
       "2  0.000000  0.000000  0.000000  0.066702  0.000000  0.000000  \n",
       "3  0.040209  0.209743  0.014692  0.001160  0.001160  0.000000  \n",
       "4  0.120194  0.000000  0.176315  0.019885  0.000000  0.116217  "
      ]
     },
     "execution_count": 46,
     "metadata": {},
     "output_type": "execute_result"
    }
   ],
   "source": [
    "target=df[\"class\"]\n",
    "features=df.drop(\"class\", axis=1)\n",
    "features.head()"
   ]
  },
  {
   "cell_type": "code",
   "execution_count": 47,
   "id": "6c7604cb",
   "metadata": {
    "scrolled": true
   },
   "outputs": [
    {
     "name": "stdout",
     "output_type": "stream",
     "text": [
      "Roc AUC score: 0.7184544917257683\n"
     ]
    },
    {
     "data": {
      "image/png": "[encoded data removed]",
      "text/plain": [
       "<Figure size 432x288 with 1 Axes>"
      ]
     },
     "metadata": {
      "needs_background": "light"
     },
     "output_type": "display_data"
    }
   ],
   "source": [
    "#Getting Roc auc score using Gradient Boosting Classifier\n",
    "def GBModel(X,y):\n",
    "    \n",
    "    X_train, X_test, y_train, y_test = train_test_split(X, y,test_size=0.25, random_state=0)\n",
    "    GB = GradientBoostingClassifier().fit(X_train, y_train)  \n",
    "    \n",
    "    #define metrics\n",
    "    y_pred_proba = GB.predict_proba(X_test)[::,1]\n",
    "    fpr, tpr, _ = metrics.roc_curve(y_test,  y_pred_proba)\n",
    "    auc = metrics.roc_auc_score(y_test, y_pred_proba)\n",
    "    \n",
    "    #for plotting the red line:\n",
    "    random_probs = [0 for i in range(len(y_test))]\n",
    "    p_fpr, p_tpr, _ = metrics.roc_curve(y_test, random_probs, pos_label=1)\n",
    "    plt.plot(p_fpr, p_tpr, linestyle='--', color='red')\n",
    "\n",
    "    \n",
    "\n",
    "    print(\"Roc AUC score:\",auc)\n",
    "    #create ROC curve\n",
    "    plt.plot(fpr,tpr,label=\"AUC=\"+str(auc))\n",
    "    plt.ylabel('True Positive Rate')\n",
    "    plt.xlabel('False Positive Rate')\n",
    "    plt.show()\n",
    "\n",
    "GBModel(features,target)"
   ]
  },
  {
   "cell_type": "code",
   "execution_count": 48,
   "id": "2421a9e8",
   "metadata": {},
   "outputs": [
    {
     "name": "stdout",
     "output_type": "stream",
     "text": [
      "[[42 37]\n",
      " [25 85]]\n",
      "              precision    recall  f1-score   support\n",
      "\n",
      "           0       0.63      0.53      0.58        79\n",
      "           1       0.70      0.77      0.73       110\n",
      "\n",
      "    accuracy                           0.67       189\n",
      "   macro avg       0.66      0.65      0.65       189\n",
      "weighted avg       0.67      0.67      0.67       189\n",
      "\n",
      "Accuracy score: 0.671957671957672\n"
     ]
    }
   ],
   "source": [
    "#Applying Random Forest Classifier:\n",
    "def RFModel(X,y):\n",
    "    \n",
    "    \n",
    "    X_train, X_test, y_train, y_test = train_test_split(X, y,test_size=0.2, random_state=0)\n",
    "    rf=RandomForestClassifier()\n",
    "    rf.fit(X_train,y_train)\n",
    "    y_predict=rf.predict(X_test)\n",
    "    print(confusion_matrix(y_test,y_predict))\n",
    "    print(classification_report(y_test,y_predict))\n",
    "    print(\"Accuracy score:\",accuracy_score(y_test, y_predict))\n",
    "    \n",
    "    \n",
    "RFModel(features,target)"
   ]
  },
  {
   "cell_type": "code",
   "execution_count": 49,
   "id": "2ab482aa",
   "metadata": {
    "scrolled": true
   },
   "outputs": [
    {
     "name": "stdout",
     "output_type": "stream",
     "text": [
      "Roc AUC score: 0.7183067375886525\n"
     ]
    },
    {
     "data": {
      "image/png": "[encoded data removed]",
      "text/plain": [
       "<Figure size 432x288 with 1 Axes>"
      ]
     },
     "metadata": {
      "needs_background": "light"
     },
     "output_type": "display_data"
    }
   ],
   "source": [
    "#Getting Roc auc score using Random Forest Classifier:\n",
    "\n",
    "def RFModel(X,y):\n",
    "    \n",
    "    X_train, X_test, y_train, y_test = train_test_split(X, y,test_size=0.25, random_state=0)\n",
    "    rf=RandomForestClassifier()\n",
    "    rf.fit(X_train,y_train)\n",
    "    y_pred_proba = rf.predict_proba(X_test)[::,1]\n",
    "    fpr, tpr, _ = metrics.roc_curve(y_test,  y_pred_proba)\n",
    "    auc = metrics.roc_auc_score(y_test, y_pred_proba)\n",
    "    print(\"Roc AUC score:\",auc)\n",
    "    \n",
    "    #for plotting the red line:\n",
    "    random_probs = [0 for i in range(len(y_test))]\n",
    "    p_fpr, p_tpr, _ = metrics.roc_curve(y_test, random_probs, pos_label=1)\n",
    "    plt.plot(p_fpr, p_tpr, linestyle='--', color='red')\n",
    "    \n",
    "    \n",
    "    #create ROC curve\n",
    "    plt.plot(fpr,tpr,label=\"AUC=\"+str(auc))\n",
    "    plt.ylabel('True Positive Rate')\n",
    "    plt.xlabel('False Positive Rate')\n",
    "    plt.show()\n",
    "RFModel(features,target)"
   ]
  },
  {
   "cell_type": "code",
   "execution_count": 50,
   "id": "d8869408",
   "metadata": {},
   "outputs": [
    {
     "name": "stdout",
     "output_type": "stream",
     "text": [
      "Roc AUC score: 0.6964391252955082\n"
     ]
    },
    {
     "data": {
      "image/png": "[encoded data removed]",
      "text/plain": [
       "<Figure size 432x288 with 1 Axes>"
      ]
     },
     "metadata": {
      "needs_background": "light"
     },
     "output_type": "display_data"
    }
   ],
   "source": [
    "#Getting Roc auc score using Logistic Regression Classifier:\n",
    "\n",
    "def LRModel(X,y):\n",
    "    \n",
    "    X_train, X_test, y_train, y_test = train_test_split(X, y,test_size=0.25, random_state=0)\n",
    "    LR = LogisticRegression().fit(X_train, y_train)  \n",
    "    \n",
    "    #define metrics\n",
    "    y_pred_proba = LR.predict_proba(X_test)[::,1]\n",
    "    fpr, tpr, _ = metrics.roc_curve(y_test,  y_pred_proba)\n",
    "    auc = metrics.roc_auc_score(y_test, y_pred_proba)\n",
    "    print(\"Roc AUC score:\",auc)\n",
    "    \n",
    "    #for plotting the red line:\n",
    "    random_probs = [0 for i in range(len(y_test))]\n",
    "    p_fpr, p_tpr, _ = metrics.roc_curve(y_test, random_probs, pos_label=1)\n",
    "    plt.plot(p_fpr, p_tpr, linestyle='--', color='red')\n",
    "    \n",
    "    #create ROC curve\n",
    "    plt.plot(fpr,tpr,label=\"AUC=\"+str(auc))\n",
    "    plt.ylabel('True Positive Rate')\n",
    "    plt.xlabel('False Positive Rate')\n",
    "    plt.show()\n",
    "\n",
    "LRModel(features,target)"
   ]
  },
  {
   "cell_type": "code",
   "execution_count": 51,
   "id": "71520d1b",
   "metadata": {},
   "outputs": [
    {
     "name": "stdout",
     "output_type": "stream",
     "text": [
      "Roc AUC score: 0.6117760047281324\n"
     ]
    },
    {
     "data": {
      "image/png": "[encoded data removed]",
      "text/plain": [
       "<Figure size 432x288 with 1 Axes>"
      ]
     },
     "metadata": {
      "needs_background": "light"
     },
     "output_type": "display_data"
    }
   ],
   "source": [
    "\n",
    "#Getting Roc auc score using K_nearest Neighbor Classifier:\n",
    "def KNNModel(X,y):\n",
    "    \n",
    "    X_train, X_test, y_train, y_test = train_test_split(X, y,test_size=0.25, random_state=0)\n",
    "    knn=KNeighborsClassifier()\n",
    "    knn.fit(X_train,y_train)\n",
    "   \n",
    "    y_pred_proba = knn.predict_proba(X_test)[::,1]\n",
    "    fpr, tpr, _ = metrics.roc_curve(y_test,  y_pred_proba)\n",
    "    auc = metrics.roc_auc_score(y_test, y_pred_proba)\n",
    "\n",
    "    #for plotting the red line:\n",
    "    random_probs = [0 for i in range(len(y_test))]\n",
    "    p_fpr, p_tpr, _ = metrics.roc_curve(y_test, random_probs, pos_label=1)\n",
    "    plt.plot(p_fpr, p_tpr, linestyle='--', color='red')\n",
    "  \n",
    "    \n",
    "    print(\"Roc AUC score:\",auc)\n",
    "    #create ROC curve\n",
    "    plt.plot(fpr,tpr,label=\"AUC=\"+str(auc))\n",
    "    plt.ylabel('True Positive Rate')\n",
    "    plt.xlabel('False Positive Rate')\n",
    "    plt.show()\n",
    "KNNModel(features,target)"
   ]
  },
  {
   "cell_type": "markdown",
   "id": "8a345aeb",
   "metadata": {},
   "source": [
    "NOTE: The cells shown below were added only to test whether the model will accurately predict the target value or not."
   ]
  },
  {
   "cell_type": "code",
   "execution_count": 52,
   "id": "293b87f3",
   "metadata": {},
   "outputs": [
    {
     "data": {
      "text/plain": [
       "0    1\n",
       "1    1\n",
       "2    1\n",
       "3    0\n",
       "4    0\n",
       "Name: class, dtype: int32"
      ]
     },
     "execution_count": 52,
     "metadata": {},
     "output_type": "execute_result"
    }
   ],
   "source": [
    "from sklearn import preprocessing\n",
    "le = preprocessing.LabelEncoder()\n",
    "test[\"class\"]=le.fit_transform(test[\"class\"])\n",
    "tt=test[\"class\"]\n",
    "test=test.drop(\"class\", axis =1)\n",
    "tt.head()"
   ]
  },
  {
   "cell_type": "code",
   "execution_count": 31,
   "id": "d6360644",
   "metadata": {},
   "outputs": [
    {
     "name": "stdout",
     "output_type": "stream",
     "text": [
      "[[ 67   7]\n",
      " [  2 113]]\n",
      "              precision    recall  f1-score   support\n",
      "\n",
      "           0       0.97      0.91      0.94        74\n",
      "           1       0.94      0.98      0.96       115\n",
      "\n",
      "    accuracy                           0.95       189\n",
      "   macro avg       0.96      0.94      0.95       189\n",
      "weighted avg       0.95      0.95      0.95       189\n",
      "\n",
      "Accuracy score: 0.9523809523809523\n"
     ]
    }
   ],
   "source": [
    "#Testing the Random Forest classifier Model using new data:\n",
    "def RFModel(X,y):\n",
    "    \n",
    "    X_train, X_test, y_train, y_test = train_test_split(X, y,test_size=0.2, random_state=0)\n",
    "    rf=RandomForestClassifier()\n",
    "    rf.fit(X_train,y_train)\n",
    "    y_predict=rf.predict(test)\n",
    "    print(confusion_matrix(tt,y_predict))\n",
    "    print(classification_report(tt,y_predict))\n",
    "    print(\"Accuracy score:\",accuracy_score(tt, y_predict))\n",
    "RFModel(features,target)"
   ]
  },
  {
   "cell_type": "code",
   "execution_count": null,
   "id": "c09d1b0b",
   "metadata": {},
   "outputs": [],
   "source": []
  }
 ],
 "metadata": {
  "kernelspec": {
   "display_name": "Python 3",
   "language": "python",
   "name": "python3"
  },
  "language_info": {
   "codemirror_mode": {
    "name": "ipython",
    "version": 3
   },
   "file_extension": ".py",
   "mimetype": "text/x-python",
   "name": "python",
   "nbconvert_exporter": "python",
   "pygments_lexer": "ipython3",
   "version": "3.8.8"
  }
 },
 "nbformat": 4,
 "nbformat_minor": 5
}
